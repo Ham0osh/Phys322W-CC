{
 "cells": [
  {
   "cell_type": "markdown",
   "source": "# Solving ODEs\n\n_Rev04 280819 DAL, Physics SFU_\n\n_Rev01 July19 NLH, Physics SFU_",
   "metadata": {
    "cell_id": "8a24fe17-8672-420e-8485-a5237f8b4c6f",
    "deepnote_cell_type": "markdown"
   }
  },
  {
   "cell_type": "markdown",
   "source": "[Needs intro]",
   "metadata": {
    "cell_id": "00001-e6cca65c-a35b-4e80-84ea-70814077a1c3",
    "deepnote_cell_type": "markdown"
   }
  },
  {
   "cell_type": "code",
   "metadata": {
    "cell_id": "00002-427db7ba-8f3f-4a31-888f-39762e4ea123",
    "deepnote_cell_type": "code"
   },
   "source": "# For scientific computing\nimport numpy as np\nimport scipy as sp\n\n# Import the integrate module to get access to the ODE solvers\nimport scipy.integrate\n\n# For plotting\nimport matplotlib.pyplot as plt",
   "outputs": [],
   "execution_count": null
  },
  {
   "cell_type": "markdown",
   "source": "There are two interfaces for solving ODEs in SciPy: `odeint` and `solve_ivp`. The latter is the more recent implementation, but most tutorials still use `odeint`. This tutorial will focus on `solve_ivp`. \n\nODEs in SciPy are solved by defining the equations as a function and passing that function to `solve_ivp` along with the range over which to integrate and the initial conditions. Please see the scipy documentation for details of how to use `solve_ivp`.",
   "metadata": {
    "cell_id": "00003-abe269a3-43e5-4d82-8192-93cf929e56a3",
    "deepnote_cell_type": "markdown"
   }
  },
  {
   "cell_type": "markdown",
   "source": "https://docs.scipy.org/doc/scipy/reference/generated/scipy.integrate.solve_ivp.html#scipy.integrate.solve_ivp",
   "metadata": {
    "cell_id": "00004-325d293e-088e-498f-a84c-be44e380fd13",
    "deepnote_cell_type": "markdown"
   }
  },
  {
   "cell_type": "markdown",
   "source": "This demo demonstrates how to use `solve_ivp` through a series of examples.",
   "metadata": {
    "cell_id": "00005-89c245ed-9872-420f-969a-43cc3d4bf53a",
    "deepnote_cell_type": "markdown"
   }
  },
  {
   "cell_type": "markdown",
   "source": "### Example 1: First-order ODE\n\nSolve the following initial-value problem (IVP)\n\n$$\\frac{dy}{dx} - \\frac{2}{y} + 3\\sin(x)=0$$\n\nover the range from $x=0$ to $x=5$ with $y(0) = 0.5$.",
   "metadata": {
    "cell_id": "00006-4532f522-f753-472f-ad2f-1b33455512db",
    "deepnote_cell_type": "markdown"
   }
  },
  {
   "cell_type": "code",
   "metadata": {
    "cell_id": "00007-e5ea38c2-3543-40e9-b47e-e526ab57683e",
    "deepnote_output_heights": [
     250
    ],
    "deepnote_cell_type": "code"
   },
   "source": "def dy_dx(x, y):\n    return 2/y - 3*np.sin(x)\n\n# define an array of points over which the result should be evaluated\nxs = np.linspace(0, 5, 20)\n\n# The ivp solver requires the following inputs: the ODE function, the range over which the equations  \n# should be integrated, the initial conditions defined with keyword y0=[], and an array of points where\n# the function should be evaluated defined with keyword t_eval=.\n\n# The results are then available in the array res.y[0].\n\nres = sp.integrate.solve_ivp(dy_dx, [0, 5], y0=[0.5], t_eval=xs)\nplt.plot(xs, res.y[0], 'o-')\nplt.show()",
   "outputs": [
    {
     "data": {
      "image/png": "[encoded data removed]",
      "text/plain": "<Figure size 432x288 with 1 Axes>"
     },
     "metadata": {
      "needs_background": "light",
      "image/png": {
       "width": 362,
       "height": 248
      }
     },
     "output_type": "display_data"
    }
   ],
   "execution_count": null
  },
  {
   "cell_type": "markdown",
   "source": "### Example 2: Second-order ODE\n\nIn order to solve a second-order ODE, you must first rewrite it as two first-order ODEs. For example, if your IVP is \n\n$$y'' - y' - \\sin(y) - \\cos(x) = 0$$\n\nwith $y(0)=1$ and $y'(0)=-0.1$.",
   "metadata": {
    "cell_id": "00008-36ac5c36-6998-47f8-b61c-839b21abad16",
    "deepnote_cell_type": "markdown"
   }
  },
  {
   "cell_type": "markdown",
   "source": "Rewrite this as two first-order ODEs by defining $v_2 = y'$ and $v_1=y$. The resulting equations are: \n\n$$v_2' = v_2 + \\sin(v_1) + \\cos(x)$$\n$$v_1' = v_2$$\n\nwith $v_1(0)=1$ and $v_2(0)=-0.1$.",
   "metadata": {
    "cell_id": "00009-e223c155-5f96-4bf3-bd9e-c01f14108bc3",
    "deepnote_cell_type": "markdown"
   }
  },
  {
   "cell_type": "code",
   "metadata": {
    "cell_id": "00010-128423dd-99e6-4681-b2be-8191ebedc4a0",
    "deepnote_output_heights": [
     250
    ],
    "deepnote_cell_type": "code"
   },
   "source": "# v[0] is going to be y\n# v[1] is going to be y'\ndef dv_dx(x, v):\n    v1 = v[0]\n    v2 = v[1]\n    return (v2,v2 + np.sin(v1) + np.cos(x))\n\n# define an array of points over which the result should be evaluated\nxs = np.linspace(0, 5, 50)\n\n# Note that there are now two initial conditions for v1 and v2, defined as y0=[1, -1] \n# The output array contains results for v1 and v2\nres = sp.integrate.solve_ivp(func, [0, 5], y0=[1, -0.1], t_eval=xs)\nplt.plot(xs, res.y[0],'o-')\nplt.plot(xs, res.y[1],'o-')\nplt.legend(['y','$y\\'$'])\nplt.show()",
   "outputs": [
    {
     "data": {
      "image/png": "[encoded data removed]",
      "text/plain": "<Figure size 432x288 with 1 Axes>"
     },
     "metadata": {
      "needs_background": "light",
      "image/png": {
       "width": 375,
       "height": 248
      }
     },
     "output_type": "display_data"
    }
   ],
   "execution_count": null
  },
  {
   "cell_type": "code",
   "metadata": {
    "cell_id": "00011-420cd4ad-c736-4f16-91fc-bf40259ebc60",
    "deepnote_cell_type": "code"
   },
   "source": "",
   "outputs": [],
   "execution_count": null
  },
  {
   "cell_type": "markdown",
   "source": "<a style='text-decoration:none;line-height:16px;display:flex;color:#5B5B62;padding:10px;justify-content:end;' href='https://deepnote.com?utm_source=created-in-deepnote-cell&projectId=4939151a-2261-4374-8b6d-a725368f8dc5' target=\"_blank\">\n<img alt='Created in deepnote.com' style='display:inline;max-height:16px;margin:0px;margin-right:7.5px;' src='data:image/svg+xml;base64,PD94bWwgdmVyc2lvbj0iMS4wIiBlbmNvZGluZz0iVVRGLTgiPz4KPHN2ZyB3aWR0aD0iODBweCIgaGVpZ2h0PSI4MHB4IiB2aWV3Qm94PSIwIDAgODAgODAiIHZlcnNpb249IjEuMSIgeG1sbnM9Imh0dHA6Ly93d3cudzMub3JnLzIwMDAvc3ZnIiB4bWxuczp4bGluaz0iaHR0cDovL3d3dy53My5vcmcvMTk5OS94bGluayI+CiAgICA8IS0tIEdlbmVyYXRvcjogU2tldGNoIDU0LjEgKDc2NDkwKSAtIGh0dHBzOi8vc2tldGNoYXBwLmNvbSAtLT4KICAgIDx0aXRsZT5Hcm91cCAzPC90aXRsZT4KICAgIDxkZXNjPkNyZWF0ZWQgd2l0aCBTa2V0Y2guPC9kZXNjPgogICAgPGcgaWQ9IkxhbmRpbmciIHN0cm9rZT0ibm9uZSIgc3Ryb2tlLXdpZHRoPSIxIiBmaWxsPSJub25lIiBmaWxsLXJ1bGU9ImV2ZW5vZGQiPgogICAgICAgIDxnIGlkPSJBcnRib2FyZCIgdHJhbnNmb3JtPSJ0cmFuc2xhdGUoLTEyMzUuMDAwMDAwLCAtNzkuMDAwMDAwKSI+CiAgICAgICAgICAgIDxnIGlkPSJHcm91cC0zIiB0cmFuc2Zvcm09InRyYW5zbGF0ZSgxMjM1LjAwMDAwMCwgNzkuMDAwMDAwKSI+CiAgICAgICAgICAgICAgICA8cG9seWdvbiBpZD0iUGF0aC0yMCIgZmlsbD0iIzAyNjVCNCIgcG9pbnRzPSIyLjM3NjIzNzYyIDgwIDM4LjA0NzY2NjcgODAgNTcuODIxNzgyMiA3My44MDU3NTkyIDU3LjgyMTc4MjIgMzIuNzU5MjczOSAzOS4xNDAyMjc4IDMxLjY4MzE2ODMiPjwvcG9seWdvbj4KICAgICAgICAgICAgICAgIDxwYXRoIGQ9Ik0zNS4wMDc3MTgsODAgQzQyLjkwNjIwMDcsNzYuNDU0OTM1OCA0Ny41NjQ5MTY3LDcxLjU0MjI2NzEgNDguOTgzODY2LDY1LjI2MTk5MzkgQzUxLjExMjI4OTksNTUuODQxNTg0MiA0MS42NzcxNzk1LDQ5LjIxMjIyODQgMjUuNjIzOTg0Niw0OS4yMTIyMjg0IEMyNS40ODQ5Mjg5LDQ5LjEyNjg0NDggMjkuODI2MTI5Niw0My4yODM4MjQ4IDM4LjY0NzU4NjksMzEuNjgzMTY4MyBMNzIuODcxMjg3MSwzMi41NTQ0MjUgTDY1LjI4MDk3Myw2Ny42NzYzNDIxIEw1MS4xMTIyODk5LDc3LjM3NjE0NCBMMzUuMDA3NzE4LDgwIFoiIGlkPSJQYXRoLTIyIiBmaWxsPSIjMDAyODY4Ij48L3BhdGg+CiAgICAgICAgICAgICAgICA8cGF0aCBkPSJNMCwzNy43MzA0NDA1IEwyNy4xMTQ1MzcsMC4yNTcxMTE0MzYgQzYyLjM3MTUxMjMsLTEuOTkwNzE3MDEgODAsMTAuNTAwMzkyNyA4MCwzNy43MzA0NDA1IEM4MCw2NC45NjA0ODgyIDY0Ljc3NjUwMzgsNzkuMDUwMzQxNCAzNC4zMjk1MTEzLDgwIEM0Ny4wNTUzNDg5LDc3LjU2NzA4MDggNTMuNDE4MjY3Nyw3MC4zMTM2MTAzIDUzLjQxODI2NzcsNTguMjM5NTg4NSBDNTMuNDE4MjY3Nyw0MC4xMjg1NTU3IDM2LjMwMzk1NDQsMzcuNzMwNDQwNSAyNS4yMjc0MTcsMzcuNzMwNDQwNSBDMTcuODQzMDU4NiwzNy43MzA0NDA1IDkuNDMzOTE5NjYsMzcuNzMwNDQwNSAwLDM3LjczMDQ0MDUgWiIgaWQ9IlBhdGgtMTkiIGZpbGw9IiMzNzkzRUYiPjwvcGF0aD4KICAgICAgICAgICAgPC9nPgogICAgICAgIDwvZz4KICAgIDwvZz4KPC9zdmc+' > </img>\nCreated in <span style='font-weight:600;margin-left:4px;'>Deepnote</span></a>",
   "metadata": {
    "tags": [],
    "created_in_deepnote_cell": true,
    "deepnote_cell_type": "markdown"
   }
  }
 ],
 "nbformat": 4,
 "nbformat_minor": 2,
 "metadata": {
  "kernelspec": {
   "display_name": "Python 3",
   "language": "python",
   "name": "python3"
  },
  "language_info": {
   "codemirror_mode": {
    "name": "ipython",
    "version": 3
   },
   "file_extension": ".py",
   "mimetype": "text/x-python",
   "name": "python",
   "nbconvert_exporter": "python",
   "pygments_lexer": "ipython3",
   "version": "3.7.3"
  },
  "deepnote_notebook_id": "230a2a1e-25d8-471b-8cf4-1752820d8028",
  "deepnote": {},
  "deepnote_execution_queue": []
 }
}